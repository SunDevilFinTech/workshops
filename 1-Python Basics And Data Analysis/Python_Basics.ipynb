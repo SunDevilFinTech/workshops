{
  "nbformat": 4,
  "nbformat_minor": 0,
  "metadata": {
    "colab": {
      "provenance": []
    },
    "kernelspec": {
      "name": "python3",
      "display_name": "Python 3"
    },
    "language_info": {
      "name": "python"
    }
  },
  "cells": [
    {
      "cell_type": "markdown",
      "source": [
        "# WELCOME!"
      ],
      "metadata": {
        "id": "InPr0CWYh7d4"
      }
    },
    {
      "cell_type": "code",
      "source": [
        "# Print a simple message\n",
        "\n",
        "print(\"Hello, Sun Devil Fintech!\")"
      ],
      "metadata": {
        "id": "btKzPQYliEvx"
      },
      "execution_count": null,
      "outputs": []
    },
    {
      "cell_type": "code",
      "execution_count": null,
      "metadata": {
        "colab": {
          "base_uri": "https://localhost:8080/"
        },
        "id": "5hajvX5Gg6QK",
        "outputId": "071fcb7c-3109-4f6a-db89-4d6d85ba300d"
      },
      "outputs": [
        {
          "output_type": "stream",
          "name": "stdout",
          "text": [
            "Age: 20\n",
            "Account Balance: 1500.75\n",
            "Customer Name: Alex\n"
          ]
        }
      ],
      "source": [
        "# Syntax\n",
        "\n",
        "# data types [VARIABLES]\n",
        "\n",
        "# Integer\n",
        "age = 20\n",
        "print(\"Age:\", age)\n",
        "\n",
        "# Float or Decimals\n",
        "balance = 1500.75\n",
        "print(\"Account Balance:\", balance)\n",
        "\n",
        "# String\n",
        "name = \"Alex\"\n",
        "print(\"Customer Name:\", name)"
      ]
    },
    {
      "cell_type": "code",
      "source": [
        "# math\n",
        "\n",
        "# Addition\n",
        "print(10 + 5)\n",
        "\n",
        "# Subtraction\n",
        "print(10 - 3)\n",
        "\n",
        "# Multiplication\n",
        "print(4 * 2)\n",
        "\n",
        "# Division\n",
        "print(15 / 3)\n",
        "\n",
        "# Power\n",
        "print(3 ** 2)\n"
      ],
      "metadata": {
        "colab": {
          "base_uri": "https://localhost:8080/"
        },
        "id": "Q3kIBXK3hUDf",
        "outputId": "c000a3ae-9bab-49d9-80b7-59228a1d1594"
      },
      "execution_count": null,
      "outputs": [
        {
          "output_type": "stream",
          "name": "stdout",
          "text": [
            "15\n",
            "7\n",
            "8\n",
            "5.0\n",
            "9\n"
          ]
        }
      ]
    },
    {
      "cell_type": "code",
      "source": [
        "# Create a formula for the Pythagorean theorem\n",
        "# Formual =>"
      ],
      "metadata": {
        "id": "Z4Gg2UJGnqxr"
      },
      "execution_count": null,
      "outputs": []
    },
    {
      "cell_type": "markdown",
      "source": [
        "# Exercise - Create a formula for the Pythagorean theorem\n",
        "\n",
        "$x^2 + y^2 = z^2$"
      ],
      "metadata": {
        "id": "0stwNy-5n7uj"
      }
    },
    {
      "cell_type": "code",
      "source": [
        "# code here"
      ],
      "metadata": {
        "id": "6lvhs0TGpKoi"
      },
      "execution_count": null,
      "outputs": []
    },
    {
      "cell_type": "code",
      "source": [
        "# An actual usecase\n",
        "\n",
        "balance = 1000  # starting balance\n",
        "new_balance = balance * 1.10  # adding 10%\n",
        "print(\"New Balance:\", new_balance)"
      ],
      "metadata": {
        "colab": {
          "base_uri": "https://localhost:8080/"
        },
        "id": "s3wDoxqihlu1",
        "outputId": "611a202b-701d-4bde-f8e3-1b7850afe64b"
      },
      "execution_count": null,
      "outputs": [
        {
          "output_type": "stream",
          "name": "stdout",
          "text": [
            "New Balance: 1100.0\n"
          ]
        }
      ]
    },
    {
      "cell_type": "code",
      "source": [
        "# Concatenate strings\n",
        "first_name = \"Alex\"\n",
        "last_name = \"Morgan\"\n",
        "full_name = first_name + \" \" + last_name\n",
        "print(\"Full Name:\", full_name)\n",
        "\n",
        "# F strings - helps you format better\n",
        "client = \"Greg\"\n",
        "my_name = \"Achintya\"\n",
        "print(f\"Hi, {client}! I'm {my_name}!\")"
      ],
      "metadata": {
        "colab": {
          "base_uri": "https://localhost:8080/"
        },
        "id": "yqlFIoV_iaRe",
        "outputId": "c0ddc425-24ef-4920-8b18-42a7382b1c2e"
      },
      "execution_count": null,
      "outputs": [
        {
          "output_type": "stream",
          "name": "stdout",
          "text": [
            "Full Name: Alex Morgan\n",
            "Hi, Greg! I'm Achintya!\n"
          ]
        }
      ]
    },
    {
      "cell_type": "code",
      "source": [
        "# A list of transaction amounts\n",
        "transactions = [100, -20, 50, -30]\n",
        "print(\"Transactions:\", transactions)\n",
        "\n",
        "# Accessing list elements\n",
        "print(\"First Transaction:\", transactions[0]) # Counting starts at zero!\n",
        "\n",
        "# Adding a new transaction\n",
        "transactions.append(75)\n",
        "print(\"Updated Transactions:\", transactions)"
      ],
      "metadata": {
        "colab": {
          "base_uri": "https://localhost:8080/"
        },
        "id": "UqCrqUJiie2x",
        "outputId": "0b6adc6a-500c-40fc-a422-2ee83744963e"
      },
      "execution_count": null,
      "outputs": [
        {
          "output_type": "stream",
          "name": "stdout",
          "text": [
            "Transactions: [100, -20, 50, -30]\n",
            "First Transaction: 100\n",
            "Updated Transactions: [100, -20, 50, -30, 75]\n"
          ]
        }
      ]
    },
    {
      "cell_type": "code",
      "source": [
        "# Check if the balance is positive [CONDITIONALS]\n",
        "balance = 500\n",
        "\n",
        "if balance > 0:\n",
        "    print(\"Account is positive.\")\n",
        "else:\n",
        "    print(\"Account is negative or zero.\")\n"
      ],
      "metadata": {
        "colab": {
          "base_uri": "https://localhost:8080/"
        },
        "id": "bwERaxMJijNx",
        "outputId": "cc544b7a-38bd-4704-d780-d4f6799cbc32"
      },
      "execution_count": null,
      "outputs": [
        {
          "output_type": "stream",
          "name": "stdout",
          "text": [
            "Account is positive.\n"
          ]
        }
      ]
    },
    {
      "cell_type": "code",
      "source": [
        "# Sum of all transactions [LOOPS]\n",
        "total = 0\n",
        "for transaction in transactions:\n",
        "    total += transaction\n",
        "print(\"Total Balance After Transactions:\", total)"
      ],
      "metadata": {
        "colab": {
          "base_uri": "https://localhost:8080/"
        },
        "id": "YSIGMFeJimAJ",
        "outputId": "6500584f-c6a6-478f-b397-6eae48da5fb0"
      },
      "execution_count": null,
      "outputs": [
        {
          "output_type": "stream",
          "name": "stdout",
          "text": [
            "Total Balance After Transactions: 175\n"
          ]
        }
      ]
    },
    {
      "cell_type": "code",
      "source": [
        "# Countdown from 5 [WHILE LOOPS]\n",
        "count = 5\n",
        "while count > 0:\n",
        "    print(count)\n",
        "    count -= 1\n",
        "print(\"Done!\")"
      ],
      "metadata": {
        "colab": {
          "base_uri": "https://localhost:8080/"
        },
        "id": "YgRrUu4vivAK",
        "outputId": "fa0ad8ba-d79f-4ce5-fd61-ee881da3feff"
      },
      "execution_count": null,
      "outputs": [
        {
          "output_type": "stream",
          "name": "stdout",
          "text": [
            "5\n",
            "4\n",
            "3\n",
            "2\n",
            "1\n",
            "Done!\n"
          ]
        }
      ]
    },
    {
      "cell_type": "code",
      "source": [
        "# Function to calculate the new balance after a 10% increase [REUSING CODE WITH FUNCTIONS]\n",
        "def increase_balance(balance):\n",
        "    return balance * 1.10\n",
        "\n",
        "# Test the function\n",
        "print(\"Increased Balance for Ben\", increase_balance(1000))\n",
        "print(\"Increased Balance for John:\", increase_balance(2000))"
      ],
      "metadata": {
        "colab": {
          "base_uri": "https://localhost:8080/"
        },
        "id": "bJKR1FD8i2P_",
        "outputId": "7a4407c2-0b87-4de4-dfb1-0f11efa1ede2"
      },
      "execution_count": null,
      "outputs": [
        {
          "output_type": "stream",
          "name": "stdout",
          "text": [
            "Increased Balance for Ben 1100.0\n",
            "Increased Balance for John: 2200.0\n"
          ]
        }
      ]
    },
    {
      "cell_type": "code",
      "source": [],
      "metadata": {
        "id": "c4KKxst-i5JY"
      },
      "execution_count": null,
      "outputs": []
    }
  ]
}